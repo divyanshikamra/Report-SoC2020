{
 "cells": [
  {
   "cell_type": "code",
   "execution_count": 1,
   "metadata": {},
   "outputs": [],
   "source": [
    "import numpy as np\n",
    "import matplotlib.pyplot as plt"
   ]
  },
  {
   "cell_type": "code",
   "execution_count": 48,
   "metadata": {},
   "outputs": [],
   "source": [
    "#taking inputs of XOR gate as training data\n",
    "X_train=np.array([[0,0],[0,1],[1,0],[1,1]])\n",
    "# .T is to take transpose of the matrix\n",
    "y_train=np.array([0,1,1,0]).T\n",
    "y_train=y_train.reshape(4,1)"
   ]
  },
  {
   "cell_type": "code",
   "execution_count": 49,
   "metadata": {},
   "outputs": [],
   "source": [
    "def func(t):\n",
    "    return 1/(1+np.exp(-t))\n",
    "\n",
    "def derivative(t):\n",
    "    return t*(1-t)"
   ]
  },
  {
   "cell_type": "code",
   "execution_count": 50,
   "metadata": {},
   "outputs": [],
   "source": [
    "def initialize(input_neurons=2,hidden_neurons=2,output_neurons=1):\n",
    "    np.random.seed(0)\n",
    "    weights_inh=np.random.random((input_neurons,hidden_neurons))\n",
    "    weights_hio=np.random.random((hidden_neurons,output_neurons))\n",
    "    return weights_inh,weights_hio\n",
    "    \n",
    "weights_ih,weights_ho=initialize(2,2,1)"
   ]
  },
  {
   "cell_type": "code",
   "execution_count": 51,
   "metadata": {},
   "outputs": [],
   "source": [
    "#forward propagation\n",
    "hidden_input=func(np.dot(X_train,weights_ih))\n",
    "predicted_output=func(np.dot(hidden_input,weights_ho))"
   ]
  },
  {
   "cell_type": "code",
   "execution_count": 53,
   "metadata": {},
   "outputs": [],
   "source": [
    "#error calculation\n",
    "abs_error= np.subtract(y_train,predicted_output)\n",
    "hidden_layer_error= derivative(predicted_output)*(abs_error)\n",
    "d_hidden= np.dot(predicted_output,weights_ho.T)\n",
    "input_layer_error= derivative(hidden_input)*d_hidden"
   ]
  },
  {
   "cell_type": "code",
   "execution_count": 54,
   "metadata": {},
   "outputs": [],
   "source": [
    "#updating weights\n",
    "lr=0.5\n",
    "weights_ih += np.dot(X_train.T,input_layer_error)*lr\n",
    "weights_ho += np.dot(hidden_input.T,hidden_layer_error)*lr"
   ]
  },
  {
   "cell_type": "code",
   "execution_count": 104,
   "metadata": {},
   "outputs": [
    {
     "name": "stdout",
     "output_type": "stream",
     "text": [
      "Entry 1: 1\n",
      "Entry 2: 1\n"
     ]
    },
    {
     "ename": "ValueError",
     "evalue": "non-broadcastable output operand with shape (4,) doesn't match the broadcast shape (4,4)",
     "output_type": "error",
     "traceback": [
      "\u001b[1;31m---------------------------------------------------------------------------\u001b[0m",
      "\u001b[1;31mValueError\u001b[0m                                Traceback (most recent call last)",
      "\u001b[1;32m<ipython-input-104-c262f8f3b0d3>\u001b[0m in \u001b[0;36m<module>\u001b[1;34m\u001b[0m\n\u001b[0;32m     71\u001b[0m \u001b[1;33m\u001b[0m\u001b[0m\n\u001b[0;32m     72\u001b[0m \u001b[1;32mif\u001b[0m \u001b[0mx1\u001b[0m \u001b[1;32min\u001b[0m \u001b[0mrange\u001b[0m\u001b[1;33m(\u001b[0m\u001b[1;36m2\u001b[0m\u001b[1;33m)\u001b[0m \u001b[1;32mand\u001b[0m \u001b[0mx2\u001b[0m \u001b[1;32min\u001b[0m \u001b[0mrange\u001b[0m\u001b[1;33m(\u001b[0m\u001b[1;36m2\u001b[0m\u001b[1;33m)\u001b[0m\u001b[1;33m:\u001b[0m\u001b[1;33m\u001b[0m\u001b[1;33m\u001b[0m\u001b[0m\n\u001b[1;32m---> 73\u001b[1;33m     \u001b[0mpenalty_layer1\u001b[0m\u001b[1;33m,\u001b[0m\u001b[0mpenalty_layer2\u001b[0m\u001b[1;33m,\u001b[0m\u001b[0mbias1\u001b[0m\u001b[1;33m,\u001b[0m\u001b[0mbias2\u001b[0m\u001b[1;33m,\u001b[0m\u001b[0mweights_layer1\u001b[0m\u001b[1;33m,\u001b[0m\u001b[0mweights_layer2\u001b[0m\u001b[1;33m=\u001b[0m\u001b[0mtrain\u001b[0m\u001b[1;33m(\u001b[0m\u001b[1;33m)\u001b[0m\u001b[1;33m\u001b[0m\u001b[1;33m\u001b[0m\u001b[0m\n\u001b[0m\u001b[0;32m     74\u001b[0m     \u001b[0mhidden_input\u001b[0m\u001b[1;33m=\u001b[0m\u001b[0mfunc\u001b[0m\u001b[1;33m(\u001b[0m\u001b[0mnp\u001b[0m\u001b[1;33m.\u001b[0m\u001b[0mdot\u001b[0m\u001b[1;33m(\u001b[0m\u001b[0mX_test\u001b[0m\u001b[1;33m,\u001b[0m\u001b[0mweights_layer1\u001b[0m\u001b[1;33m)\u001b[0m\u001b[1;33m+\u001b[0m \u001b[0mbias1\u001b[0m\u001b[1;33m)\u001b[0m\u001b[1;33m\u001b[0m\u001b[1;33m\u001b[0m\u001b[0m\n\u001b[0;32m     75\u001b[0m     \u001b[0mpredicted_output\u001b[0m\u001b[1;33m=\u001b[0m\u001b[0mfunc\u001b[0m\u001b[1;33m(\u001b[0m\u001b[0mnp\u001b[0m\u001b[1;33m.\u001b[0m\u001b[0mdot\u001b[0m\u001b[1;33m(\u001b[0m\u001b[0mhidden_input\u001b[0m\u001b[1;33m,\u001b[0m\u001b[0mweights_layer2\u001b[0m\u001b[1;33m)\u001b[0m \u001b[1;33m+\u001b[0m \u001b[0mbias2\u001b[0m\u001b[1;33m)\u001b[0m\u001b[1;33m\u001b[0m\u001b[1;33m\u001b[0m\u001b[0m\n",
      "\u001b[1;32m<ipython-input-104-c262f8f3b0d3>\u001b[0m in \u001b[0;36mtrain\u001b[1;34m(lr, epochs)\u001b[0m\n\u001b[0;32m     35\u001b[0m         \u001b[0mhidden_input\u001b[0m\u001b[1;33m=\u001b[0m \u001b[0mfunc\u001b[0m\u001b[1;33m(\u001b[0m\u001b[0mhidden_input\u001b[0m\u001b[1;33m)\u001b[0m\u001b[1;33m\u001b[0m\u001b[1;33m\u001b[0m\u001b[0m\n\u001b[0;32m     36\u001b[0m         \u001b[0mpredicted_output\u001b[0m\u001b[1;33m=\u001b[0m \u001b[0mnp\u001b[0m\u001b[1;33m.\u001b[0m\u001b[0mdot\u001b[0m\u001b[1;33m(\u001b[0m\u001b[0mhidden_input\u001b[0m\u001b[1;33m,\u001b[0m\u001b[0mweights_ho\u001b[0m\u001b[1;33m)\u001b[0m\u001b[1;33m\u001b[0m\u001b[1;33m\u001b[0m\u001b[0m\n\u001b[1;32m---> 37\u001b[1;33m         \u001b[0mpredicted_output\u001b[0m\u001b[1;33m+=\u001b[0m \u001b[0moutput_bias\u001b[0m\u001b[1;33m\u001b[0m\u001b[1;33m\u001b[0m\u001b[0m\n\u001b[0m\u001b[0;32m     38\u001b[0m         \u001b[0mpredicted_output\u001b[0m\u001b[1;33m=\u001b[0m \u001b[0mfunc\u001b[0m\u001b[1;33m(\u001b[0m\u001b[0mpredicted_output\u001b[0m\u001b[1;33m)\u001b[0m\u001b[1;33m\u001b[0m\u001b[1;33m\u001b[0m\u001b[0m\n\u001b[0;32m     39\u001b[0m \u001b[1;33m\u001b[0m\u001b[0m\n",
      "\u001b[1;31mValueError\u001b[0m: non-broadcastable output operand with shape (4,) doesn't match the broadcast shape (4,4)"
     ]
    }
   ],
   "source": [
    "import numpy as np\n",
    "import matplotlib.pyplot as plt\n",
    "\n",
    "#taking inputs of XOR gate as training data\n",
    "X_train=np.array([[0,0],[0,1],[1,0],[1,1]])\n",
    "# .T is to take transpose of the matrix\n",
    "y_train=np.array([0,1,1,0]).T\n",
    "y_train=y_train.reshape(4,1)\n",
    "\n",
    "def func(x):\n",
    "    return np.tanh(x)\n",
    "\n",
    "def derivative(x):\n",
    "    return 1- x**2\n",
    "\n",
    "def initialize(input_neurons=2,hidden_neurons=2,output_neurons=1):\n",
    "    np.random.seed(0)\n",
    "    weights_inh=np.random.random((input_neurons,hidden_neurons))\n",
    "    bias_layer1 =np.random.random(size=(4,hidden_neurons))\n",
    "    \n",
    "    weights_hio=np.random.uniform((hidden_neurons,output_neurons))\n",
    "    bias_layer2 = np.random.uniform(size=(4,output_neurons))\n",
    "    \n",
    "    return weights_inh,weights_hio,bias_layer1,bias_layer2\n",
    "    \n",
    "\n",
    "def train(lr=0.5,epochs=10000):\n",
    "    #initialize\n",
    "    weights_ih,weights_ho,hidden_bias,output_bias=initialize(2,2,1)\n",
    "    for _ in range(epochs):\n",
    "\n",
    "        #forward propagation\n",
    "        hidden_input= np.dot(X_train,weights_ih)\n",
    "        hidden_input+= hidden_bias\n",
    "        hidden_input= func(hidden_input)\n",
    "        predicted_output= np.dot(hidden_input,weights_ho)\n",
    "        predicted_output+= output_bias\n",
    "        predicted_output= func(predicted_output)\n",
    "        \n",
    "        #error calculation\n",
    "        error= y_train-predicted_output\n",
    "        hidden_layer_error= derivative(predicted_output) * error\n",
    "        \n",
    "        d_hidden= np.dot(hidden_layer_error,weights_ho.T)\n",
    "        input_layer_error= derivative(hidden_input) * d_hidden\n",
    "        \n",
    "        #updating weights\n",
    "        weights_ih += np.dot(X_train.T,input_layer_error) * lr\n",
    "        weights_ho += np.dot(hidden_input.T,hidden_layer_error) * lr\n",
    "        output_bias += np.sum(hidden_layer_error,axis=0,keepdims=True) * lr\n",
    "        hidden_bias += np.sum(input_layer_error,axis=0,keepdims=True) * lr\n",
    "        \n",
    "        \n",
    "    print(\"Final hidden weights: \",end='')\n",
    "    print(*weights_ih)\n",
    "    print(\"Final hidden bias: \",end='')\n",
    "    print(*hidden_bias)\n",
    "    print(\"Final output weights: \",end='')\n",
    "    print(*weights_ho)\n",
    "    print(\"Final output bias: \",end='')\n",
    "    print(*output_bias)\n",
    "\n",
    "    print(\"\\nOutput from neural network after 10,000 epochs: \",end='')\n",
    "    print(*predicted_output)\n",
    "        \n",
    "    return hidden_layer_error,input_layer_error,hidden_bias,output_bias,weights_ih,weights_ho\n",
    "\n",
    "x1=int(input(\"Entry 1: \"))\n",
    "x2=int(input(\"Entry 2: \"))\n",
    "X_test=np.array([[x1,x2]])\n",
    "\n",
    "if x1 in range(2) and x2 in range(2):\n",
    "    penalty_layer1,penalty_layer2,bias1,bias2,weights_layer1,weights_layer2=train()\n",
    "    hidden_input=func(np.dot(X_test,weights_layer1)+ bias1)\n",
    "    predicted_output=func(np.dot(hidden_input,weights_layer2) + bias2)\n",
    "    print(predicted_output)\n",
    "    if predicted_output < 0.5:\n",
    "        print(\"0\")\n",
    "    else:\n",
    "        print(\"1\")\n",
    "else:\n",
    "    print(\"ONLY 0 and 1 are allowed as entries!!!!\")\n",
    "    "
   ]
  },
  {
   "cell_type": "code",
   "execution_count": 76,
   "metadata": {},
   "outputs": [
    {
     "name": "stdout",
     "output_type": "stream",
     "text": [
      "[[0]\n",
      " [1]\n",
      " [1]\n",
      " [0]]\n"
     ]
    }
   ],
   "source": [
    "y_train=np.array([0,1,1,0]).T\n",
    "y_train=y_train.reshape(4,1)\n",
    "print(y_train)"
   ]
  },
  {
   "cell_type": "code",
   "execution_count": 145,
   "metadata": {},
   "outputs": [
    {
     "name": "stdout",
     "output_type": "stream",
     "text": [
      "[[0.01377877]\n",
      " [0.9881831 ]\n",
      " [0.98819065]\n",
      " [0.01217909]]\n"
     ]
    },
    {
     "data": {
      "image/png": "[encoded data removed]",
      "text/plain": [
       "<Figure size 432x288 with 1 Axes>"
      ]
     },
     "metadata": {
      "needs_background": "light"
     },
     "output_type": "display_data"
    }
   ],
   "source": [
    "import numpy as np\n",
    "import matplotlib.pyplot as plt\n",
    "\n",
    "#taking inputs of XOR gate as training data\n",
    "X_train=np.array([[0,0],[0,1],[1,0],[1,1]])\n",
    "# .T is to take transpose of the matrix\n",
    "y_train=np.array([0,1,1,0]).T\n",
    "y_train=y_train.reshape(4,1)\n",
    "\n",
    "turns=[]\n",
    "errors_1=[]\n",
    "errors_2=[]\n",
    "errors_3=[]\n",
    "errors_4=[]\n",
    "\n",
    "def func(x):\n",
    "    return 1/(1+np.exp(-x))\n",
    "\n",
    "def derivative(t):\n",
    "     return t*(1-t)\n",
    "\n",
    "def train(lr=0.5,epochs=10000):\n",
    "    #initialize\n",
    "    inputLayerNeurons, hiddenLayerNeurons, outputLayerNeurons = 2,2,1\n",
    "    #Random weights and bias initialization\n",
    "    hidden_weights = np.random.uniform(size=(inputLayerNeurons,hiddenLayerNeurons))\n",
    "    hidden_bias =np.random.uniform(size=(1,hiddenLayerNeurons))\n",
    "    output_weights = np.random.uniform(size=(hiddenLayerNeurons,outputLayerNeurons))\n",
    "    output_bias = np.random.uniform(size=(1,outputLayerNeurons))\n",
    "\n",
    "    for i in range(epochs):\n",
    "        turns.append(i)\n",
    "        #FORWARD PROPAGATION\n",
    "        hidden_layer_activation = np.dot(X_train,hidden_weights)\n",
    "        hidden_layer_activation += hidden_bias\n",
    "        hidden_layer_output = func(hidden_layer_activation)\n",
    "\n",
    "        output_layer_activation = np.dot(hidden_layer_output,output_weights)\n",
    "        output_layer_activation += output_bias\n",
    "        predicted_output = func(output_layer_activation)\n",
    "\n",
    "        #Backpropagation\n",
    "        error = y_train - predicted_output\n",
    "        d_predicted_output = error *derivative(predicted_output)\n",
    "\n",
    "        error_hidden_layer = d_predicted_output.dot(output_weights.T)\n",
    "        d_hidden_layer = error_hidden_layer * derivative(hidden_layer_output)\n",
    "        \n",
    "        errors_1.append(error[0])\n",
    "        errors_2.append(error[1])\n",
    "        errors_3.append(error[2])\n",
    "        errors_4.append(error[3])\n",
    "\n",
    "\n",
    "        #Updating Weights and Biases\n",
    "        output_weights += hidden_layer_output.T.dot(d_predicted_output) * lr\n",
    "        output_bias += np.sum(d_predicted_output,axis=0,keepdims=True) * lr\n",
    "        hidden_weights += X_train.T.dot(d_hidden_layer) * lr\n",
    "        hidden_bias += np.sum(d_hidden_layer,axis=0,keepdims=True) * lr\n",
    "    print(predicted_output)   \n",
    "    return hidden_weights, hidden_bias,output_weights,output_bias\n",
    "\n",
    "train(0.9,10000)\n",
    "plt.plot(turns,errors_1,color=\"RED\")\n",
    "plt.plot(turns,errors_2,color=\"BLUE\")\n",
    "plt.plot(turns,errors_3,color=\"GREEN\")\n",
    "plt.plot(turns,errors_4,color=\"YELLOW\")\n",
    "\n",
    "plt.xlabel(\"Iterations\")\n",
    "plt.ylabel(\"Errors in hidden layer\")\n",
    "plt.title(\"WITH LEARNING RATE=0.5\")\n",
    "plt.show()\n",
    "\n",
    "\n"
   ]
  },
  {
   "cell_type": "code",
   "execution_count": null,
   "metadata": {},
   "outputs": [],
   "source": []
  }
 ],
 "metadata": {
  "kernelspec": {
   "display_name": "Python 3",
   "language": "python",
   "name": "python3"
  },
  "language_info": {
   "codemirror_mode": {
    "name": "ipython",
    "version": 3
   },
   "file_extension": ".py",
   "mimetype": "text/x-python",
   "name": "python",
   "nbconvert_exporter": "python",
   "pygments_lexer": "ipython3",
   "version": "3.8.1"
  }
 },
 "nbformat": 4,
 "nbformat_minor": 4
}
