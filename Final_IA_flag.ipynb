{
  "nbformat": 4,
  "nbformat_minor": 0,
  "metadata": {
    "colab": {
      "name": "Final-IA-flag.ipynb",
      "provenance": [],
      "authorship_tag": "ABX9TyMa7v2FdpCCRK9lUBWYZjnJ",
      "include_colab_link": true
    },
    "kernelspec": {
      "name": "python3",
      "display_name": "Python 3"
    }
  },
  "cells": [
    {
      "cell_type": "markdown",
      "metadata": {
        "id": "view-in-github",
        "colab_type": "text"
      },
      "source": [
        "<a href=\"https://colab.research.google.com/github/divyanshikamra/Report-SoC2020/blob/master/Final_IA_flag.ipynb\" target=\"_parent\"><img src=\"https://colab.research.google.com/assets/colab-badge.svg\" alt=\"Open In Colab\"/></a>"
      ]
    },
    {
      "cell_type": "code",
      "metadata": {
        "id": "54g0r1TE8S9Q",
        "colab_type": "code",
        "outputId": "d682ba36-2fe6-436b-9c49-ea7aac9c32a4",
        "colab": {
          "base_uri": "https://localhost:8080/",
          "height": 202
        }
      },
      "source": [
        "!wget \"http://tsanjevvishnu.com/datasets/final.json\""
      ],
      "execution_count": 16,
      "outputs": [
        {
          "output_type": "stream",
          "text": [
            "--2020-06-06 19:01:38--  http://tsanjevvishnu.com/datasets/final.json\n",
            "Resolving tsanjevvishnu.com (tsanjevvishnu.com)... 162.241.169.155\n",
            "Connecting to tsanjevvishnu.com (tsanjevvishnu.com)|162.241.169.155|:80... connected.\n",
            "HTTP request sent, awaiting response... 200 OK\n",
            "Length: 35838 (35K) [application/json]\n",
            "Saving to: ‘final.json.3’\n",
            "\n",
            "\rfinal.json.3          0%[                    ]       0  --.-KB/s               \rfinal.json.3        100%[===================>]  35.00K  --.-KB/s    in 0.04s   \n",
            "\n",
            "2020-06-06 19:01:38 (899 KB/s) - ‘final.json.3’ saved [35838/35838]\n",
            "\n"
          ],
          "name": "stdout"
        }
      ]
    },
    {
      "cell_type": "code",
      "metadata": {
        "id": "EQsRIelm8Tvh",
        "colab_type": "code",
        "colab": {}
      },
      "source": [
        "import json\n",
        "with open(\"final.json\") as f:\n",
        "  data = json.load(f)"
      ],
      "execution_count": 0,
      "outputs": []
    },
    {
      "cell_type": "code",
      "metadata": {
        "id": "e8J5K38H8WDn",
        "colab_type": "code",
        "colab": {}
      },
      "source": [
        "import numpy as np\n",
        "\n",
        "X = np.zeros([1000, 2])\n",
        "Y = np.zeros([1000,])\n",
        "X[:,0] = np.array(data['input1']).reshape((-1,))\n",
        "X[:,1] = np.array(data['input2']).reshape((-1,))\n",
        "Y = np.array(data['flag']).reshape((-1,))"
      ],
      "execution_count": 0,
      "outputs": []
    },
    {
      "cell_type": "code",
      "metadata": {
        "id": "BIC1HS3h8auR",
        "colab_type": "code",
        "colab": {}
      },
      "source": [
        "from sklearn.neural_network import MLPClassifier\n",
        "import sklearn.model_selection as ms\n",
        "import sklearn.metrics as sklm\n",
        "from numpy import random as nr\n",
        "%matplotlib inline"
      ],
      "execution_count": 0,
      "outputs": []
    },
    {
      "cell_type": "code",
      "metadata": {
        "id": "2rNOhGH88egO",
        "colab_type": "code",
        "outputId": "b4c25d36-2340-4b7a-e04b-fe29ad57f4b8",
        "colab": {
          "base_uri": "https://localhost:8080/",
          "height": 151
        }
      },
      "source": [
        "nr.seed(1115)\n",
        "nn_mod = MLPClassifier(hidden_layer_sizes = (12,5))\n",
        "nn_mod.fit(X, Y)"
      ],
      "execution_count": 20,
      "outputs": [
        {
          "output_type": "execute_result",
          "data": {
            "text/plain": [
              "MLPClassifier(activation='relu', alpha=0.0001, batch_size='auto', beta_1=0.9,\n",
              "              beta_2=0.999, early_stopping=False, epsilon=1e-08,\n",
              "              hidden_layer_sizes=(12, 5), learning_rate='constant',\n",
              "              learning_rate_init=0.001, max_fun=15000, max_iter=200,\n",
              "              momentum=0.9, n_iter_no_change=10, nesterovs_momentum=True,\n",
              "              power_t=0.5, random_state=None, shuffle=True, solver='adam',\n",
              "              tol=0.0001, validation_fraction=0.1, verbose=False,\n",
              "              warm_start=False)"
            ]
          },
          "metadata": {
            "tags": []
          },
          "execution_count": 20
        }
      ]
    },
    {
      "cell_type": "code",
      "metadata": {
        "id": "hBJj096E8p_P",
        "colab_type": "code",
        "outputId": "995c1eac-2140-4b6a-96b3-0afb4c7cf1cc",
        "colab": {
          "base_uri": "https://localhost:8080/",
          "height": 202
        }
      },
      "source": [
        "!wget \"http://tsanjevvishnu.com/datasets/datawflag.json\""
      ],
      "execution_count": 21,
      "outputs": [
        {
          "output_type": "stream",
          "text": [
            "--2020-06-06 19:01:40--  http://tsanjevvishnu.com/datasets/datawflag.json\n",
            "Resolving tsanjevvishnu.com (tsanjevvishnu.com)... 162.241.169.155\n",
            "Connecting to tsanjevvishnu.com (tsanjevvishnu.com)|162.241.169.155|:80... connected.\n",
            "HTTP request sent, awaiting response... 200 OK\n",
            "Length: 35807 (35K) [application/json]\n",
            "Saving to: ‘datawflag.json’\n",
            "\n",
            "\rdatawflag.json        0%[                    ]       0  --.-KB/s               \rdatawflag.json      100%[===================>]  34.97K  --.-KB/s    in 0.04s   \n",
            "\n",
            "2020-06-06 19:01:40 (920 KB/s) - ‘datawflag.json’ saved [35807/35807]\n",
            "\n"
          ],
          "name": "stdout"
        }
      ]
    },
    {
      "cell_type": "code",
      "metadata": {
        "id": "-TzgLDHT8xta",
        "colab_type": "code",
        "colab": {}
      },
      "source": [
        "with open(\"datawflag.json\") as h:\n",
        "  tst_data = json.load(h)"
      ],
      "execution_count": 0,
      "outputs": []
    },
    {
      "cell_type": "code",
      "metadata": {
        "id": "2dsss8cM9BkB",
        "colab_type": "code",
        "outputId": "ecd2715b-341f-457a-dd83-ea547969ddf0",
        "colab": {
          "base_uri": "https://localhost:8080/",
          "height": 34
        }
      },
      "source": [
        "tst_data.keys()"
      ],
      "execution_count": 23,
      "outputs": [
        {
          "output_type": "execute_result",
          "data": {
            "text/plain": [
              "dict_keys(['input1', 'input2', 'flag'])"
            ]
          },
          "metadata": {
            "tags": []
          },
          "execution_count": 23
        }
      ]
    },
    {
      "cell_type": "code",
      "metadata": {
        "id": "KRLRpm4B9HPt",
        "colab_type": "code",
        "outputId": "60a97811-893b-4cf9-d7b3-1a73b4dab54c",
        "colab": {
          "base_uri": "https://localhost:8080/",
          "height": 34
        }
      },
      "source": [
        "len(tst_data['input2'])"
      ],
      "execution_count": 24,
      "outputs": [
        {
          "output_type": "execute_result",
          "data": {
            "text/plain": [
              "1000"
            ]
          },
          "metadata": {
            "tags": []
          },
          "execution_count": 24
        }
      ]
    },
    {
      "cell_type": "code",
      "metadata": {
        "id": "5fcXBFzG9YtC",
        "colab_type": "code",
        "colab": {}
      },
      "source": [
        "X_test = np.zeros([1000, 2])\n",
        "Y_test = np.zeros([1000,])\n",
        "X_test[:,0] = np.array(tst_data['input1']).reshape((-1,))\n",
        "X_test[:,1] = np.array(tst_data['input2']).reshape((-1,))\n",
        "Y_test = np.array(tst_data['flag']).reshape((-1,))"
      ],
      "execution_count": 0,
      "outputs": []
    },
    {
      "cell_type": "code",
      "metadata": {
        "id": "WLKwbAOu9m33",
        "colab_type": "code",
        "colab": {}
      },
      "source": [
        "y_predict = nn_mod.predict(X_test)\n"
      ],
      "execution_count": 0,
      "outputs": []
    },
    {
      "cell_type": "code",
      "metadata": {
        "id": "gMEtRDC69-2q",
        "colab_type": "code",
        "colab": {}
      },
      "source": [
        ""
      ],
      "execution_count": 0,
      "outputs": []
    },
    {
      "cell_type": "code",
      "metadata": {
        "id": "Zg0cVKRH-Bar",
        "colab_type": "code",
        "outputId": "c22f67f0-4dbf-49bc-b430-5023e60c0f86",
        "colab": {
          "base_uri": "https://localhost:8080/",
          "height": 34
        }
      },
      "source": [
        "print('Accuracy        %0.2f' % sklm.accuracy_score(Y_test, y_predict))"
      ],
      "execution_count": 27,
      "outputs": [
        {
          "output_type": "stream",
          "text": [
            "Accuracy        1.00\n"
          ],
          "name": "stdout"
        }
      ]
    },
    {
      "cell_type": "code",
      "metadata": {
        "id": "2GqPi53x-F34",
        "colab_type": "code",
        "colab": {}
      },
      "source": [
        "np.savetxt(\"y_predict_final.csv\", y_predict, delimiter=\",\")\n"
      ],
      "execution_count": 0,
      "outputs": []
    },
    {
      "cell_type": "code",
      "metadata": {
        "id": "EFbm5cEP-UgT",
        "colab_type": "code",
        "colab": {}
      },
      "source": [
        "#from google.colab import files\n",
        "#  files.download('y_predict_final.csv')"
      ],
      "execution_count": 0,
      "outputs": []
    },
    {
      "cell_type": "code",
      "metadata": {
        "id": "TUO11CdT-cYb",
        "colab_type": "code",
        "outputId": "009a3d7f-3a4a-433c-c5e7-b8df326fc179",
        "colab": {
          "base_uri": "https://localhost:8080/",
          "height": 50
        }
      },
      "source": [
        "from sklearn.metrics import confusion_matrix\n",
        "cm=confusion_matrix(Y_test,y_predict)\n",
        "print(cm)"
      ],
      "execution_count": 30,
      "outputs": [
        {
          "output_type": "stream",
          "text": [
            "[[501   0]\n",
            " [  1 498]]\n"
          ],
          "name": "stdout"
        }
      ]
    },
    {
      "cell_type": "code",
      "metadata": {
        "id": "X0wG0OzKBbT5",
        "colab_type": "code",
        "colab": {}
      },
      "source": [
        ""
      ],
      "execution_count": 0,
      "outputs": []
    }
  ]
}