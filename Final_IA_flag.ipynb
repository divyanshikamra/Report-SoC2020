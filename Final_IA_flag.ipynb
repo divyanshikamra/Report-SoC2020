{
  "nbformat": 4,
  "nbformat_minor": 0,
  "metadata": {
    "colab": {
      "name": "Final-IA-flag.ipynb",
      "provenance": [],
      "authorship_tag": "ABX9TyNBqetbvQivKOXkM6ctu75R",
      "include_colab_link": true
    },
    "kernelspec": {
      "name": "python3",
      "display_name": "Python 3"
    }
  },
  "cells": [
    {
      "cell_type": "markdown",
      "metadata": {
        "id": "view-in-github",
        "colab_type": "text"
      },
      "source": [
        "<a href=\"https://colab.research.google.com/github/divyanshikamra/Report-SoC2020/blob/master/Final_IA_flag.ipynb\" target=\"_parent\"><img src=\"https://colab.research.google.com/assets/colab-badge.svg\" alt=\"Open In Colab\"/></a>"
      ]
    },
    {
      "cell_type": "code",
      "metadata": {
        "id": "54g0r1TE8S9Q",
        "colab_type": "code",
        "outputId": "badc5c8c-502b-41ab-c531-c087fc654edb",
        "colab": {
          "base_uri": "https://localhost:8080/",
          "height": 202
        }
      },
      "source": [
        "!wget \"http://tsanjevvishnu.com/datasets/final.json\""
      ],
      "execution_count": 1,
      "outputs": [
        {
          "output_type": "stream",
          "text": [
            "--2020-06-06 18:56:47--  http://tsanjevvishnu.com/datasets/final.json\n",
            "Resolving tsanjevvishnu.com (tsanjevvishnu.com)... 162.241.169.155\n",
            "Connecting to tsanjevvishnu.com (tsanjevvishnu.com)|162.241.169.155|:80... connected.\n",
            "HTTP request sent, awaiting response... 200 OK\n",
            "Length: 35838 (35K) [application/json]\n",
            "Saving to: ‘final.json’\n",
            "\n",
            "\rfinal.json            0%[                    ]       0  --.-KB/s               \rfinal.json          100%[===================>]  35.00K  --.-KB/s    in 0.04s   \n",
            "\n",
            "2020-06-06 18:56:48 (920 KB/s) - ‘final.json’ saved [35838/35838]\n",
            "\n"
          ],
          "name": "stdout"
        }
      ]
    },
    {
      "cell_type": "code",
      "metadata": {
        "id": "EQsRIelm8Tvh",
        "colab_type": "code",
        "colab": {}
      },
      "source": [
        "import json\n",
        "with open(\"final.json\") as f:\n",
        "  data = json.load(f)"
      ],
      "execution_count": 0,
      "outputs": []
    },
    {
      "cell_type": "code",
      "metadata": {
        "id": "e8J5K38H8WDn",
        "colab_type": "code",
        "colab": {}
      },
      "source": [
        "import numpy as np\n",
        "\n",
        "X = np.zeros([1000, 2])\n",
        "Y = np.zeros([1000,])\n",
        "X[:,0] = np.array(data['input1']).reshape((-1,))\n",
        "X[:,1] = np.array(data['input2']).reshape((-1,))\n",
        "Y = np.array(data['flag']).reshape((-1,))"
      ],
      "execution_count": 0,
      "outputs": []
    },
    {
      "cell_type": "code",
      "metadata": {
        "id": "BIC1HS3h8auR",
        "colab_type": "code",
        "colab": {}
      },
      "source": [
        "from sklearn.neural_network import MLPClassifier\n",
        "import sklearn.model_selection as ms\n",
        "import sklearn.metrics as sklm\n",
        "\n",
        "%matplotlib inline"
      ],
      "execution_count": 0,
      "outputs": []
    },
    {
      "cell_type": "code",
      "metadata": {
        "id": "2rNOhGH88egO",
        "colab_type": "code",
        "outputId": "12940f7b-5ad8-4709-fa1b-f4c3055562cc",
        "colab": {
          "base_uri": "https://localhost:8080/",
          "height": 195
        }
      },
      "source": [
        "nr.seed(1115)\n",
        "nn_mod = MLPClassifier(hidden_layer_sizes = (12,5))\n",
        "nn_mod.fit(X, Y)"
      ],
      "execution_count": 5,
      "outputs": [
        {
          "output_type": "error",
          "ename": "NameError",
          "evalue": "ignored",
          "traceback": [
            "\u001b[0;31m---------------------------------------------------------------------------\u001b[0m",
            "\u001b[0;31mNameError\u001b[0m                                 Traceback (most recent call last)",
            "\u001b[0;32m<ipython-input-5-c953b84a223d>\u001b[0m in \u001b[0;36m<module>\u001b[0;34m()\u001b[0m\n\u001b[0;32m----> 1\u001b[0;31m \u001b[0mnr\u001b[0m\u001b[0;34m.\u001b[0m\u001b[0mseed\u001b[0m\u001b[0;34m(\u001b[0m\u001b[0;36m1115\u001b[0m\u001b[0;34m)\u001b[0m\u001b[0;34m\u001b[0m\u001b[0;34m\u001b[0m\u001b[0m\n\u001b[0m\u001b[1;32m      2\u001b[0m \u001b[0mnn_mod\u001b[0m \u001b[0;34m=\u001b[0m \u001b[0mMLPClassifier\u001b[0m\u001b[0;34m(\u001b[0m\u001b[0mhidden_layer_sizes\u001b[0m \u001b[0;34m=\u001b[0m \u001b[0;34m(\u001b[0m\u001b[0;36m12\u001b[0m\u001b[0;34m,\u001b[0m\u001b[0;36m5\u001b[0m\u001b[0;34m)\u001b[0m\u001b[0;34m)\u001b[0m\u001b[0;34m\u001b[0m\u001b[0;34m\u001b[0m\u001b[0m\n\u001b[1;32m      3\u001b[0m \u001b[0mnn_mod\u001b[0m\u001b[0;34m.\u001b[0m\u001b[0mfit\u001b[0m\u001b[0;34m(\u001b[0m\u001b[0mX\u001b[0m\u001b[0;34m,\u001b[0m \u001b[0mY\u001b[0m\u001b[0;34m)\u001b[0m\u001b[0;34m\u001b[0m\u001b[0;34m\u001b[0m\u001b[0m\n",
            "\u001b[0;31mNameError\u001b[0m: name 'nr' is not defined"
          ]
        }
      ]
    },
    {
      "cell_type": "code",
      "metadata": {
        "id": "hBJj096E8p_P",
        "colab_type": "code",
        "colab": {}
      },
      "source": [
        "!wget \"http://tsanjevvishnu.com/datasets/datawflag.json\""
      ],
      "execution_count": 0,
      "outputs": []
    },
    {
      "cell_type": "code",
      "metadata": {
        "id": "-TzgLDHT8xta",
        "colab_type": "code",
        "colab": {}
      },
      "source": [
        "with open(\"datawflag.json\") as h:\n",
        "  tst_data = json.load(h)"
      ],
      "execution_count": 0,
      "outputs": []
    },
    {
      "cell_type": "code",
      "metadata": {
        "id": "2dsss8cM9BkB",
        "colab_type": "code",
        "colab": {}
      },
      "source": [
        "tst_data.keys()"
      ],
      "execution_count": 0,
      "outputs": []
    },
    {
      "cell_type": "code",
      "metadata": {
        "id": "KRLRpm4B9HPt",
        "colab_type": "code",
        "colab": {}
      },
      "source": [
        "len(tst_data['input2'])"
      ],
      "execution_count": 0,
      "outputs": []
    },
    {
      "cell_type": "code",
      "metadata": {
        "id": "5fcXBFzG9YtC",
        "colab_type": "code",
        "colab": {}
      },
      "source": [
        "X_test = np.zeros([1000, 2])\n",
        "Y_test = np.zeros([1000,])\n",
        "X_test[:,0] = np.array(tst_data['input1']).reshape((-1,))\n",
        "X_test[:,1] = np.array(tst_data['input2']).reshape((-1,))\n",
        "Y_test = np.array(tst_data['flag']).reshape((-1,))"
      ],
      "execution_count": 0,
      "outputs": []
    },
    {
      "cell_type": "code",
      "metadata": {
        "id": "WLKwbAOu9m33",
        "colab_type": "code",
        "colab": {}
      },
      "source": [
        "y_predict = nn_mod.predict(X_test)\n"
      ],
      "execution_count": 0,
      "outputs": []
    },
    {
      "cell_type": "code",
      "metadata": {
        "id": "gMEtRDC69-2q",
        "colab_type": "code",
        "colab": {}
      },
      "source": [
        ""
      ],
      "execution_count": 0,
      "outputs": []
    },
    {
      "cell_type": "code",
      "metadata": {
        "id": "Zg0cVKRH-Bar",
        "colab_type": "code",
        "colab": {}
      },
      "source": [
        "print('Accuracy        %0.2f' % sklm.accuracy_score(Y_test, y_predict))"
      ],
      "execution_count": 0,
      "outputs": []
    },
    {
      "cell_type": "code",
      "metadata": {
        "id": "2GqPi53x-F34",
        "colab_type": "code",
        "colab": {}
      },
      "source": [
        "np.savetxt(\"y_predict_final.csv\", y_predict, delimiter=\",\")\n"
      ],
      "execution_count": 0,
      "outputs": []
    },
    {
      "cell_type": "code",
      "metadata": {
        "id": "EFbm5cEP-UgT",
        "colab_type": "code",
        "colab": {}
      },
      "source": [
        "##from google.colab import files\n",
        "#3 files.download('y_predict_final.csv')"
      ],
      "execution_count": 0,
      "outputs": []
    },
    {
      "cell_type": "code",
      "metadata": {
        "id": "TUO11CdT-cYb",
        "colab_type": "code",
        "colab": {}
      },
      "source": [
        "from sklearn.metrics import confusion_matrix\n",
        "cm=confusion_matrix(Y_test,y_predict)\n",
        "print(cm)"
      ],
      "execution_count": 0,
      "outputs": []
    },
    {
      "cell_type": "code",
      "metadata": {
        "id": "X0wG0OzKBbT5",
        "colab_type": "code",
        "colab": {}
      },
      "source": [
        ""
      ],
      "execution_count": 0,
      "outputs": []
    }
  ]
}